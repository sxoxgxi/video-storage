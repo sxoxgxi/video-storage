{
 "cells": [
  {
   "cell_type": "code",
   "execution_count": 30,
   "metadata": {},
   "outputs": [
    {
     "name": "stdout",
     "output_type": "stream",
     "text": [
      "video in seconds: 80\n",
      "video in minutes: 0:01:20\n",
      "video size: 9.186761856079102\n"
     ]
    }
   ],
   "source": [
    "import os\n",
    "import cv2\n",
    "import datetime\n",
    "\n",
    "video_path = \"./video_files/miyukixfuziwararap.mp4\"\n",
    "video = cv2.VideoCapture(video_path)\n",
    "\n",
    "frames = video.get(cv2.CAP_PROP_FRAME_COUNT)\n",
    "fps = video.get(cv2.CAP_PROP_FPS)\n",
    "seconds = round(frames / fps)\n",
    "video_time = datetime.timedelta(seconds=seconds)\n",
    "filesize = os.path.getsize(video_path)\n",
    "\n",
    "\n",
    "def byteconversion(bytes, to, default=1024):\n",
    "    result = float(bytes)\n",
    "    if to == 'bit':\n",
    "        return bytes * 8\n",
    "    conversion = {'kb': 1, 'mb': 2, 'gb': 3, 'tb': 4, 'pb': 5, 'eb': 6}\n",
    "    for _ in range(conversion[to]):\n",
    "        result = result / default\n",
    "    return(result)\n",
    "\n",
    "print(f'video in seconds: {seconds}')\n",
    "print(f'video in minutes: {video_time}')\n",
    "print(f\"video size: {byteconversion(filesize, 'mb')}\")"
   ]
  }
 ],
 "metadata": {
  "kernelspec": {
   "display_name": "Python 3.10.4 64-bit",
   "language": "python",
   "name": "python3"
  },
  "language_info": {
   "codemirror_mode": {
    "name": "ipython",
    "version": 3
   },
   "file_extension": ".py",
   "mimetype": "text/x-python",
   "name": "python",
   "nbconvert_exporter": "python",
   "pygments_lexer": "ipython3",
   "version": "3.10.4"
  },
  "orig_nbformat": 4,
  "vscode": {
   "interpreter": {
    "hash": "d3e10ef16274dd72e574b8fa73b58450b957d8421a2901baded3cca26fcf5dda"
   }
  }
 },
 "nbformat": 4,
 "nbformat_minor": 2
}
